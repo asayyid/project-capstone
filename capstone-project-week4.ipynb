{
    "nbformat_minor": 1, 
    "cells": [
        {
            "source": "### Capstone Project - The Battle of Neighbourhoods (Week 1)\n\n", 
            "cell_type": "markdown", 
            "metadata": {
                "collapsed": true
            }
        }, 
        {
            "source": "<h2><a id=\"Keep_calm_and_go_to_London_2\"></a>Keep calm and go to London</h2>\n<p><img src=\"https://images.pexels.com/photos/595661/pexels-photo-595661.jpeg?auto=compress&amp;cs=tinysrgb&amp;dpr=2&amp;h=100&amp;w=100\" style=\"float: left;\" alt=\"London Underground Image\"></p>", 
            "cell_type": "markdown", 
            "metadata": {}
        }, 
        {
            "source": "\n<h3><a id=\"Introduction__Problem_statement_5\"></a>Introduction / Problem statement:</h3>\n<p>London is one of the world\u2019s top tourist destinations famous for art, fashion, best food from all around the world and theatres. London is one of the leading metropolises every traveler should visit. This city has amazing things to offer from the centuries old architectures to the tallest building in the European Union.</p>\n<p>Either you are planning to visit for a day or want to stay for long, the hardest part is choosing what to see, what to do and where to stay. Plenty of travel website which organise generic tours but not customised or detailed enough to cater the needs of many. Although there are many blogs about London but are not precise and one easily gets lost in abundance of information.</p>\n<p>By using location data and top venues search API coupled with data science techniques, one can find enough useful information to organise trip to London. This would also help the people living in London to visit new and trending places. If someone wants to see which London boroughs have specific type of restaurants or where are most college and university then this data could be used to find such locations.</p>\n<h3><a id=\"Target_audience_13\"></a>Target audience:</h3>\n<ol>\n<li>People planning to visit London</li>\n<li>People living in London want to visit new places</li>\n</ol>\n<h3><a id=\"Stakeholders_17\"></a>Stakeholders:</h3>\n<ol>\n<li>Search API Provider</li>\n<li>Travellers</li>\n</ol>", 
            "cell_type": "markdown", 
            "metadata": {}
        }, 
        {
            "source": "<BR>", 
            "cell_type": "markdown", 
            "metadata": {}
        }, 
        {
            "source": "\n\n## A description of the data and how it will be used\n", 
            "cell_type": "markdown", 
            "metadata": {}
        }, 
        {
            "source": "<BR>", 
            "cell_type": "markdown", 
            "metadata": {}
        }, 
        {
            "source": "Data about London is available from UK Govt ( https://data.london.gov.uk/data-for-london/ ) and many other website. I have chosen to use data provided by Dogal ( https://www.doogal.co.uk/UKPostcodesCSV.ashx?area=London) available under public domain license. \n\nI am planning to use four square categories (https://developer.foursquare.com/docs/resources/categories ) along with Venu explore API(\nhttps://api.foursquare.com/v2/venues/explore) to search top trending venues in each category in London boroughs.\n", 
            "cell_type": "markdown", 
            "metadata": {}
        }
    ], 
    "metadata": {
        "kernelspec": {
            "display_name": "Python 3.5", 
            "name": "python3", 
            "language": "python"
        }, 
        "language_info": {
            "mimetype": "text/x-python", 
            "nbconvert_exporter": "python", 
            "version": "3.5.5", 
            "name": "python", 
            "pygments_lexer": "ipython3", 
            "file_extension": ".py", 
            "codemirror_mode": {
                "version": 3, 
                "name": "ipython"
            }
        }
    }, 
    "nbformat": 4
}